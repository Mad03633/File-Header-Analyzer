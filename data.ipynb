{
 "cells": [
  {
   "cell_type": "code",
   "execution_count": 1,
   "metadata": {},
   "outputs": [],
   "source": [
    "import pandas as pd\n",
    "import numpy as np"
   ]
  },
  {
   "cell_type": "code",
   "execution_count": 8,
   "metadata": {},
   "outputs": [
    {
     "data": {
      "text/html": [
       "<div>\n",
       "<style scoped>\n",
       "    .dataframe tbody tr th:only-of-type {\n",
       "        vertical-align: middle;\n",
       "    }\n",
       "\n",
       "    .dataframe tbody tr th {\n",
       "        vertical-align: top;\n",
       "    }\n",
       "\n",
       "    .dataframe thead th {\n",
       "        text-align: right;\n",
       "    }\n",
       "</style>\n",
       "<table border=\"1\" class=\"dataframe\">\n",
       "  <thead>\n",
       "    <tr style=\"text-align: right;\">\n",
       "      <th></th>\n",
       "      <th>keylogger.exe</th>\n",
       "      <th>1.8MB</th>\n",
       "      <th>2025-03-10 14:10:22</th>\n",
       "      <th>2025-03-11 11:45:33</th>\n",
       "    </tr>\n",
       "  </thead>\n",
       "  <tbody>\n",
       "    <tr>\n",
       "      <th>0</th>\n",
       "      <td>ransomware.lnk</td>\n",
       "      <td>2KB</td>\n",
       "      <td>2025-03-09 19:15:10</td>\n",
       "      <td>2025-03-10 09:20:55</td>\n",
       "    </tr>\n",
       "    <tr>\n",
       "      <th>1</th>\n",
       "      <td>autorun.inf</td>\n",
       "      <td>1KB</td>\n",
       "      <td>2025-03-08 12:50:00</td>\n",
       "      <td>2025-03-08 18:30:20</td>\n",
       "    </tr>\n",
       "    <tr>\n",
       "      <th>2</th>\n",
       "      <td>trojan.hta</td>\n",
       "      <td>12KB</td>\n",
       "      <td>2025-03-07 21:40:30</td>\n",
       "      <td>2025-03-09 14:12:44</td>\n",
       "    </tr>\n",
       "    <tr>\n",
       "      <th>3</th>\n",
       "      <td>macro_malware.docm</td>\n",
       "      <td>1.2MB</td>\n",
       "      <td>2025-03-06 10:25:55</td>\n",
       "      <td>2025-03-07 23:50:31</td>\n",
       "    </tr>\n",
       "    <tr>\n",
       "      <th>4</th>\n",
       "      <td>malicious_xll.xll</td>\n",
       "      <td>700KB</td>\n",
       "      <td>2025-03-05 17:15:40</td>\n",
       "      <td>2025-03-06 08:45:10</td>\n",
       "    </tr>\n",
       "  </tbody>\n",
       "</table>\n",
       "</div>"
      ],
      "text/plain": [
       "        keylogger.exe  1.8MB  2025-03-10 14:10:22  2025-03-11 11:45:33\n",
       "0      ransomware.lnk    2KB  2025-03-09 19:15:10  2025-03-10 09:20:55\n",
       "1         autorun.inf    1KB  2025-03-08 12:50:00  2025-03-08 18:30:20\n",
       "2          trojan.hta   12KB  2025-03-07 21:40:30  2025-03-09 14:12:44\n",
       "3  macro_malware.docm  1.2MB  2025-03-06 10:25:55  2025-03-07 23:50:31\n",
       "4   malicious_xll.xll  700KB  2025-03-05 17:15:40  2025-03-06 08:45:10"
      ]
     },
     "execution_count": 8,
     "metadata": {},
     "output_type": "execute_result"
    }
   ],
   "source": [
    "filenames = pd.read_csv('data-files\\\\filenames.csv')\n",
    "filenames.head()"
   ]
  },
  {
   "cell_type": "code",
   "execution_count": 9,
   "metadata": {},
   "outputs": [
    {
     "data": {
      "text/html": [
       "<div>\n",
       "<style scoped>\n",
       "    .dataframe tbody tr th:only-of-type {\n",
       "        vertical-align: middle;\n",
       "    }\n",
       "\n",
       "    .dataframe tbody tr th {\n",
       "        vertical-align: top;\n",
       "    }\n",
       "\n",
       "    .dataframe thead th {\n",
       "        text-align: right;\n",
       "    }\n",
       "</style>\n",
       "<table border=\"1\" class=\"dataframe\">\n",
       "  <thead>\n",
       "    <tr style=\"text-align: right;\">\n",
       "      <th></th>\n",
       "      <th>exe</th>\n",
       "      <th>WARNING: Executable files may contain viruses!</th>\n",
       "      <th>Trojan.Win32.Emotet</th>\n",
       "    </tr>\n",
       "  </thead>\n",
       "  <tbody>\n",
       "    <tr>\n",
       "      <th>0</th>\n",
       "      <td>scr</td>\n",
       "      <td>WARNING: Screensaver files can execute malicio...</td>\n",
       "      <td>Worm.Win32.Stuxnet</td>\n",
       "    </tr>\n",
       "    <tr>\n",
       "      <th>1</th>\n",
       "      <td>bat</td>\n",
       "      <td>WARNING: Batch scripts can modify system setti...</td>\n",
       "      <td>Trojan.BAT.Gen</td>\n",
       "    </tr>\n",
       "    <tr>\n",
       "      <th>2</th>\n",
       "      <td>vbs</td>\n",
       "      <td>WARNING: VBScript files can be used for malwar...</td>\n",
       "      <td>VBS.LoveLetter</td>\n",
       "    </tr>\n",
       "    <tr>\n",
       "      <th>3</th>\n",
       "      <td>cmd</td>\n",
       "      <td>WARNING: Command scripts may perform dangerous...</td>\n",
       "      <td>Trojan.Win32.Autoit</td>\n",
       "    </tr>\n",
       "    <tr>\n",
       "      <th>4</th>\n",
       "      <td>js</td>\n",
       "      <td>WARNING: JavaScript files can execute unwanted...</td>\n",
       "      <td>JS.Miner</td>\n",
       "    </tr>\n",
       "  </tbody>\n",
       "</table>\n",
       "</div>"
      ],
      "text/plain": [
       "   exe     WARNING: Executable files may contain viruses!  Trojan.Win32.Emotet\n",
       "0  scr  WARNING: Screensaver files can execute malicio...   Worm.Win32.Stuxnet\n",
       "1  bat  WARNING: Batch scripts can modify system setti...       Trojan.BAT.Gen\n",
       "2  vbs  WARNING: VBScript files can be used for malwar...       VBS.LoveLetter\n",
       "3  cmd  WARNING: Command scripts may perform dangerous...  Trojan.Win32.Autoit\n",
       "4   js  WARNING: JavaScript files can execute unwanted...             JS.Miner"
      ]
     },
     "execution_count": 9,
     "metadata": {},
     "output_type": "execute_result"
    }
   ],
   "source": [
    "virusnames = pd.read_csv('data-files\\\\virusenames.csv')\n",
    "virusnames.head()"
   ]
  },
  {
   "cell_type": "code",
   "execution_count": null,
   "metadata": {},
   "outputs": [],
   "source": []
  }
 ],
 "metadata": {
  "kernelspec": {
   "display_name": "Python 3",
   "language": "python",
   "name": "python3"
  },
  "language_info": {
   "codemirror_mode": {
    "name": "ipython",
    "version": 3
   },
   "file_extension": ".py",
   "mimetype": "text/x-python",
   "name": "python",
   "nbconvert_exporter": "python",
   "pygments_lexer": "ipython3",
   "version": "3.11.5"
  }
 },
 "nbformat": 4,
 "nbformat_minor": 2
}
